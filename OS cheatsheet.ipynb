{
 "cells": [
  {
   "cell_type": "markdown",
   "metadata": {},
   "source": [
    "# OPERATING SYSTEM LINUX AND WINDOWS\n",
    "\n",
    "### @author - FiNyX-GaMmA"
   ]
  },
  {
   "cell_type": "markdown",
   "metadata": {},
   "source": [
    "## DIRECTORIES"
   ]
  },
  {
   "cell_type": "markdown",
   "metadata": {},
   "source": [
    "1. **Subdirectories in **Windows** are sperated by _backslash_(/) , unlike in **Linux** which uses _forward-slash_ .**"
   ]
  },
  {
   "cell_type": "markdown",
   "metadata": {},
   "source": [
    "### Commands LINE cheats"
   ]
  },
  {
   "cell_type": "markdown",
   "metadata": {},
   "source": [
    "## 1. **How to list directories in Windows CLI**\n",
    "\n",
    "- In Windows the _root directory_ is shown by the drive letter eg. \"C:\\\"\n",
    "\n",
    "> ls C:\\  :-> this gives the lst of directories in the C: drive root folder.\n",
    "\n",
    "> Get-Help ls  :-> this will a brief summary of what that command can do\n",
    "\n",
    "> Get-Help ls -Full  :-> this will give a more deatails with examples\n",
    "\n",
    "> ls -Force c:\\  :-> shows the hidden files in the C: drive"
   ]
  },
  {
   "cell_type": "markdown",
   "metadata": {},
   "source": [
    "## 2. **How to list directories in Linux Terminal**\n",
    "\n",
    "- In linux the _root directory_ is shown by \"/\"\n",
    "\n",
    "> ls /  - shows the list of all the subdirectories in the linux filesystem\n",
    "\n",
    "\n",
    "|Directory name| what it stands for|\n",
    "|--------------|-------------------|\n",
    "|**/bin** |folder is very  simillar to our Windows _Program Files_ directory |\n",
    "|**/etc** |folder contains system configuration files |\n",
    "|**/home** |is very simmilar to our Windows _Users_ directory |\n",
    "|**/proc**  |contains information about the currently running processes |\n",
    "|**/usr** |contains user installer software|\n",
    "|**/var** |store system files and logs those files that are constantly changing their value.|\n",
    "\n",
    "#### **flag** is used to add more options to a command to make it more versatile\n",
    "\n",
    "> ls --help  :-> shows the more important functions of the ls command.\n",
    "\n",
    "- **man** -> shows the manual pages of the command and the _\"Q\"_ is used to exit a man function.\n",
    "\n",
    "> man ls :-> a bit more detailed help of the command\n",
    "\n",
    ">ls -l /  :-> gives a longer listed or a deatiled view of the root directory.\n",
    "\n",
    "| file permission | links | owner| group the file belongs to| file size|time stamp| file or directory name|\n",
    "| ---------- | ---------- | ----------| ----------------| ----------|----------| ----------|\n",
    "\n",
    "shown what the column stands for \n",
    "\n",
    "> ls -l -a / can also be written as ls -la / :- -a shows all the files including the hidden files.\n",
    "\n",
    "- add a **dot(.)** in front of the file name to make it _hidden_ "
   ]
  },
  {
   "cell_type": "markdown",
   "metadata": {},
   "source": [
    "## 3. Moving to and fro in Directories in _Windows_\n"
   ]
  },
  {
   "cell_type": "markdown",
   "metadata": {},
   "source": [
    "> pwd - print working directory = shows the directory we are currenetly working in.\n",
    "\n",
    "> cd [path to change to] - change directory = changes the current working directory\n",
    "\n",
    "- eg - **cd C:\\Users\\admin\\Documents** - changes the current working directory to _Documents_\n",
    "\n",
    "###### **SHORTCUT**\n",
    " - **cd ..** - moves the directory one step up or one node upward.\n",
    " - **cd ~ \\Desktop** - moves the directory to Desktop.\n",
    "\n",
    " **Tab Completion** - write a letter and press tab it completes the lines with the autocomplete prediction.  "
   ]
  },
  {
   "cell_type": "markdown",
   "metadata": {},
   "source": [
    "## 4. Moving to and fro in Directories in _LINUX_"
   ]
  },
  {
   "cell_type": "markdown",
   "metadata": {},
   "source": [
    "> pwd - same as that in windows\n",
    "\n",
    "> cd - same as that in windows.\n",
    "\n",
    "- In linux **~** is used to refer the home directory.\n",
    "\n",
    "- **Tab Completion** feature is also present in bash simmilar to winows\n",
    "- **cd../Desktop** - the **..** feature works the same way as that in windows. "
   ]
  },
  {
   "cell_type": "markdown",
   "metadata": {},
   "source": [
    "## 5. Moving and Renaming Files, Directories in _Windows_"
   ]
  },
  {
   "cell_type": "markdown",
   "metadata": {},
   "source": [
    "> mv :-> lets us rename file.\n",
    "\n",
    "- Renaming file without changing the director:\n",
    "    - mv .\\ <old_filename> <new_filename>\n",
    "\n",
    "- **Using mv command to move file from oneplace to another**\n",
    "    - mv .\\ <user_filename> {path or location}"
   ]
  },
  {
   "cell_type": "markdown",
   "metadata": {},
   "source": [
    "## 6. Moving and renaming files, Directories in _LINUX_"
   ]
  },
  {
   "cell_type": "markdown",
   "metadata": {},
   "source": [
    "> mv <old_filename> <new_filename> - same as that in Windows\n",
    "\n",
    "> mv *_(name).{extension} <file_location> :-> move all files with the same name substring and extention to the specified location"
   ]
  },
  {
   "cell_type": "markdown",
   "metadata": {},
   "source": [
    "## 7. Removing Files & Directories in _Windows_"
   ]
  },
  {
   "cell_type": "markdown",
   "metadata": {},
   "source": [
    ">rm or remove :-> removes the specified file and directories permanently.\n",
    "\n",
    "-Use the **-Recurse** _parameter_ to remove a directory containing different files.\n",
    "\n",
    "###### **Note** :- that the -Remove can only work if you have the specified user permissions if not then this command returns a error - saying that _you donr have the specified permissions_\n",
    "\n"
   ]
  },
  {
   "cell_type": "markdown",
   "metadata": {},
   "source": [
    "## 8. Removing Files & Directories in _LINUX_"
   ]
  },
  {
   "cell_type": "markdown",
   "metadata": {},
   "source": [
    "> rm or remove -  to remove files and directories\n",
    "\n",
    "- Simmilar to **-Recursive** in _Windows_ **-r** does the same function in Linux."
   ]
  },
  {
   "cell_type": "markdown",
   "metadata": {},
   "source": [
    "## 9. Displaying File contents in _Windows_"
   ]
  },
  {
   "cell_type": "markdown",
   "metadata": {},
   "source": [
    "> cat - stands for concatenate\n",
    "\n",
    "- cat <filename> - displays the file contents in the page.\n",
    "\n",
    "> more <filename> - shows the contents in the file one page at a time\n",
    "\n",
    "- enter key advances the line by one lone\n",
    "- space advances the content by one page\n",
    "- q helps to quit the more command\n",
    "\n",
    "> cat <filename> -Head {number of lines} - displays the top specified number of lines of the content.\n",
    "\n",
    "> cat <filename> -Tail {number of lines} - displays the last specified number of lines of the content."
   ]
  },
  {
   "cell_type": "markdown",
   "metadata": {},
   "source": [
    "## 10. Displaying File contents in _LINUX_"
   ]
  },
  {
   "cell_type": "markdown",
   "metadata": {},
   "source": [
    "> cat <filename> - shows theentire file\n",
    "\n",
    "> less <filename> - shows the file contents one page at a time\n",
    "\n",
    "- up down key\n",
    "- page up and page down key\n",
    "- g = moves to the begining of the text file.\n",
    "- G = moves to the end of the text file.\n",
    "- /word_search = searches the specifed word in the file content\n",
    "- q = quits the **less** command\n",
    "\n",
    "> head <filename> :-> shows the the first 10 lines of the file by default\n",
    "\n",
    "> tail <filename> :-> shows the last 10 lines of the file contents by default."
   ]
  },
  {
   "cell_type": "markdown",
   "metadata": {},
   "source": []
  }
 ],
 "metadata": {
  "interpreter": {
   "hash": "d718af6a68817f80e376561e6e2101de74277f7941e4e67dc20993f4fdb41550"
  },
  "kernelspec": {
   "display_name": "Python 3.9.13 64-bit (windows store)",
   "language": "python",
   "name": "python3"
  },
  "language_info": {
   "name": "python",
   "version": "3.9.13"
  },
  "orig_nbformat": 4
 },
 "nbformat": 4,
 "nbformat_minor": 2
}
