{
 "cells": [
  {
   "cell_type": "markdown",
   "metadata": {},
   "source": [
    "# OPERATING SYSTEM LINUX AND WINDOWS\n",
    "\n",
    "### @author - FiNyX-GaMmA"
   ]
  },
  {
   "cell_type": "markdown",
   "metadata": {},
   "source": [
    "## DIRECTORIES"
   ]
  },
  {
   "cell_type": "markdown",
   "metadata": {},
   "source": [
    "1. **Subdirectories in **Windows** are sperated by _backslash_(/) , unlike in **Linux** which uses _forward-slash_ .**"
   ]
  },
  {
   "cell_type": "markdown",
   "metadata": {},
   "source": [
    "### Commands LINE cheats"
   ]
  },
  {
   "cell_type": "markdown",
   "metadata": {},
   "source": [
    "## 1. **How to list directories in Windows CLI**\n",
    "\n",
    "- In Windows the _root directory_ is shown by the drive letter eg. \"C:\\\"\n",
    "\n",
    "> ls C:\\  :-> this gives the lst of directories in the C: drive root folder.\n",
    "\n",
    "> Get-Help ls  :-> this will a brief summary of what that command can do\n",
    "\n",
    "> Get-Help ls -Full  :-> this will give a more deatails with examples\n",
    "\n",
    "> ls -Force c:\\  :-> shows the hidden files in the C: drive"
   ]
  },
  {
   "cell_type": "markdown",
   "metadata": {},
   "source": [
    "## 2. **How to list directories in Linux Terminal**\n",
    "\n",
    "- In linux the _root directory_ is shown by \"/\"\n",
    "\n",
    "> ls /  - shows the list of all the subdirectories in the linux filesystem\n",
    "\n",
    "\n",
    "|Directory name| what it stands for|\n",
    "|--------------|-------------------|\n",
    "|**/bin** |folder is very  simillar to our Windows _Program Files_ directory |\n",
    "|**/etc** |folder contains system configuration files |\n",
    "|**/home** |is very simmilar to our Windows _Users_ directory |\n",
    "|**/proc**  |contains information about the currently running processes |\n",
    "|**/usr** |contains user installer software|\n",
    "|**/var** |store system files and logs those files that are constantly changing their value.|\n",
    "\n",
    "#### **flag** is used to add more options to a command to make it more versatile\n",
    "\n",
    "> ls --help  :-> shows the more important functions of the ls command.\n",
    "\n",
    "- **man** -> shows the manual pages of the command and the _\"Q\"_ is used to exit a man function.\n",
    "\n",
    "> man ls :-> a bit more detailed help of the command\n",
    "\n",
    ">ls -l /  :-> gives a longer listed or a deatiled view of the root directory.\n",
    "\n",
    "| file permission | links | owner| group the file belongs to| file size|time stamp| file or directory name|\n",
    "| ---------- | ---------- | ----------| ----------------| ----------|----------| ----------|\n",
    "\n",
    "shown what the column stands for \n",
    "\n",
    "> ls -l -a / can also be written as ls -la / :- -a shows all the files including the hidden files.\n",
    "\n",
    "- add a **dot(.)** in front of the file name to make it _hidden_ "
   ]
  },
  {
   "cell_type": "markdown",
   "metadata": {},
   "source": [
    "## 3. Moving to and fro in Directories in _Windows_\n"
   ]
  },
  {
   "cell_type": "markdown",
   "metadata": {},
   "source": [
    "> pwd - print working directory = shows the directory we are currenetly working in.\n",
    "\n",
    "> cd [path to change to] - change directory = changes the current working directory\n",
    "\n",
    "- eg - **cd C:\\Users\\admin\\Documents** - changes the current working directory to _Documents_\n",
    "\n",
    "###### **SHORTCUT**\n",
    " - **cd ..** - moves the directory one step up or one node upward.\n",
    " - **cd ~ \\Desktop** - moves the directory to Desktop.\n",
    "\n",
    " **Tab Completion** - write a letter and press tab it completes the lines with the autocomplete prediction.  "
   ]
  },
  {
   "cell_type": "markdown",
   "metadata": {},
   "source": [
    "## 4. Moving to and fro in Directories in _LINUX_"
   ]
  },
  {
   "cell_type": "markdown",
   "metadata": {},
   "source": [
    "> pwd - same as that in windows\n",
    "\n",
    "> cd - same as that in windows.\n",
    "\n",
    "- In linux **~** is used to refer the home directory.\n",
    "\n",
    "- **Tab Completion** feature is also present in bash simmilar to winows\n",
    "- **cd../Desktop** - the **..** feature works the same way as that in windows. "
   ]
  },
  {
   "cell_type": "markdown",
   "metadata": {},
   "source": [
    "## 5. Moving and Renaming Files, Directories in _Windows_"
   ]
  },
  {
   "cell_type": "markdown",
   "metadata": {},
   "source": [
    "> mv :-> lets us rename file.\n",
    "\n",
    "- Renaming file without changing the director:\n",
    "    - mv .\\ <old_filename> <new_filename>\n",
    "\n",
    "- **Using mv command to move file from oneplace to another**\n",
    "    - mv .\\ <user_filename> {path or location}"
   ]
  },
  {
   "cell_type": "markdown",
   "metadata": {},
   "source": [
    "## 6. Moving and renaming files, Directories in _LINUX_"
   ]
  },
  {
   "cell_type": "markdown",
   "metadata": {},
   "source": [
    "> mv <old_filename> <new_filename> - same as that in Windows\n",
    "\n",
    "> mv *_(name).{extension} <file_location> :-> move all files with the same name substring and extention to the specified location"
   ]
  },
  {
   "cell_type": "markdown",
   "metadata": {},
   "source": [
    "## 7. Removing Files & Directories in _Windows_"
   ]
  },
  {
   "cell_type": "markdown",
   "metadata": {},
   "source": [
    ">rm or remove :-> removes the specified file and directories permanently.\n",
    "\n",
    "-Use the **-Recurse** _parameter_ to remove a directory containing different files.\n",
    "\n",
    "###### **Note** :- that the -Remove can only work if you have the specified user permissions if not then this command returns a error - saying that _you donr have the specified permissions_\n",
    "\n"
   ]
  },
  {
   "cell_type": "markdown",
   "metadata": {},
   "source": [
    "## 8. Removing Files & Directories in _LINUX_"
   ]
  },
  {
   "cell_type": "markdown",
   "metadata": {},
   "source": [
    "> rm or remove -  to remove files and directories\n",
    "\n",
    "- Simmilar to **-Recursive** in _Windows_ **-r** does the same function in Linux."
   ]
  },
  {
   "cell_type": "markdown",
   "metadata": {},
   "source": [
    "## 9. Displaying File contents in _Windows_"
   ]
  },
  {
   "cell_type": "markdown",
   "metadata": {},
   "source": [
    "> cat - stands for concatenate\n",
    "\n",
    "- cat <filename> - displays the file contents in the page.\n",
    "\n",
    "> more <filename> - shows the contents in the file one page at a time\n",
    "\n",
    "- enter key advances the line by one lone\n",
    "- space advances the content by one page\n",
    "- q helps to quit the more command\n",
    "\n",
    "> cat <filename> -Head {number of lines} - displays the top specified number of lines of the content.\n",
    "\n",
    "> cat <filename> -Tail {number of lines} - displays the last specified number of lines of the content."
   ]
  },
  {
   "cell_type": "markdown",
   "metadata": {},
   "source": [
    "## 10. Displaying File contents in _LINUX_"
   ]
  },
  {
   "cell_type": "markdown",
   "metadata": {},
   "source": [
    "> cat <filename> - shows theentire file\n",
    "\n",
    "> less <filename> - shows the file contents one page at a time\n",
    "\n",
    "- up down key\n",
    "- page up and page down key\n",
    "- g = moves to the begining of the text file.\n",
    "- G = moves to the end of the text file.\n",
    "- /word_search = searches the specifed word in the file content\n",
    "- q = quits the **less** command\n",
    "\n",
    "> head <filename> :-> shows the the first 10 lines of the file by default\n",
    "\n",
    "> tail <filename> :-> shows the last 10 lines of the file contents by default."
   ]
  },
  {
   "cell_type": "markdown",
   "metadata": {},
   "source": [
    "## 11. Modifying Text files in CLI in _Windows_"
   ]
  },
  {
   "cell_type": "markdown",
   "metadata": {},
   "source": [
    "- Windows CLI doesnt have any inbuilt text editing software hence we will use it to run **NotePad++** to edit text files\n",
    "\n",
    "> start notepad++ <File_want_to_edit>"
   ]
  },
  {
   "cell_type": "markdown",
   "metadata": {},
   "source": [
    "## 12. Modifying text files in CLI in _LINUX_"
   ]
  },
  {
   "cell_type": "markdown",
   "metadata": {},
   "source": [
    "- We will use **_Nano_** to edit text files in _linux_\n",
    "\n",
    "> nano <File_to_edit>\n",
    "\n",
    "     Ctrl+G - helps to open up a help page\n",
    "     Ctrl+X - saves the work done and exit the nano command\n",
    "\n",
    "- A better and powerfull text editior for _Linux_ is **Emacs**.\n",
    "     - The link for is official documentation is <https://www.gnu.org/software/emacs/tour/>"
   ]
  },
  {
   "cell_type": "markdown",
   "metadata": {},
   "source": [
    "## 13. _Windows_ **Powershell**"
   ]
  },
  {
   "cell_type": "markdown",
   "metadata": {},
   "source": [
    "### Powershell commands :-"
   ]
  },
  {
   "cell_type": "markdown",
   "metadata": {},
   "source": [
    "> Get-Alias ls\n",
    "\n",
    "    gets or list child directories of the item\n",
    "\n",
    "> Get-ChildItem C:\\\n",
    "\n",
    "    shows the *child directories* of the C:\\ drive\n",
    "\n",
    "- works the same as ls C:\\\n"
   ]
  },
  {
   "cell_type": "markdown",
   "metadata": {},
   "source": [
    "| Powershell | Alias | cmd.exe |Function|\n",
    "|------------|------|-------|-------|\n",
    "|Get-ChildItem| ls | dir| - shows the child directories|\n",
    "|Get-Help| | /?| - shows what commands are availabe with the function|"
   ]
  },
  {
   "cell_type": "markdown",
   "metadata": {},
   "source": [
    "## 14. Searching within Files in _Windows_"
   ]
  },
  {
   "cell_type": "markdown",
   "metadata": {},
   "source": [
    "- **Ctrl+F** is used to search for the word in a single files"
   ]
  },
  {
   "cell_type": "markdown",
   "metadata": {},
   "source": [
    "- GUI option:\n",
    "    - Windows Search Service - time and resource consuming\n",
    "    - From **Notepad++** - **press _Ctrl+Shift+F_** = opens a **Find in Files** dialog"
   ]
  },
  {
   "cell_type": "markdown",
   "metadata": {},
   "source": [
    "- CLI options\n",
    "    - sls - select-string command finds strings in files.\n",
    "        - uses  pattern matching algorithm called - **Regular Expressions**\n",
    "        \n",
    "            > Select-String <word> <file_to_search>\n",
    "\n",
    "                returns the file and the line number where the word was found\n",
    "            > Select_String <word> *.{extention}\n",
    "\n",
    "                finds the word in all files with the given extention\n",
    "\n",
    "\n"
   ]
  },
  {
   "cell_type": "markdown",
   "metadata": {},
   "source": [
    "## 15. Searching within Directories in _Windows_"
   ]
  },
  {
   "cell_type": "markdown",
   "metadata": {},
   "source": [
    "The **-Filter** parameter will filter the results for the file names that match a pattern:\n",
    "\n",
    "    - to be used with **-Recurse**\n",
    "\n",
    ">ls 'C:\\Program Files\\' -Recurse -Filter {*.<extention_file>}"
   ]
  },
  {
   "cell_type": "markdown",
   "metadata": {},
   "source": [
    "## 16. Searching within Files in _Linux_"
   ]
  },
  {
   "cell_type": "markdown",
   "metadata": {},
   "source": [
    "Simmilar to **Select-String** in **_Windows_** we can use **grep** in **_Linux_**\n",
    "- very similar to the windows command and uses the **wild card (*)**"
   ]
  },
  {
   "cell_type": "markdown",
   "metadata": {},
   "source": [
    "> grep <word_to_find> <the-file_to_Search>\n",
    "\n",
    "> grap <word> *.<file_extension>"
   ]
  },
  {
   "cell_type": "markdown",
   "metadata": {},
   "source": [
    "## 17. Input,Output and the Pipeline in _Windows_"
   ]
  },
  {
   "cell_type": "markdown",
   "metadata": {},
   "source": [
    "> echo\n",
    "\n",
    "    - simmialr to PRINT statement.\n",
    "\n",
    "> echo <new_word> > <filename_to_add>\n",
    "\n",
    "    - puts the word into the file name stated"
   ]
  },
  {
   "cell_type": "markdown",
   "metadata": {},
   "source": [
    "> echo <new_word> >> <filename_to_add>\n",
    "\n",
    "    - appends this new word to file\n",
    "\n",
    "###### **\">\"** will _overwrite_ the existing file with the inpout word but **\">>\"** will just _append_ to the file not overwrite it."
   ]
  },
  {
   "cell_type": "markdown",
   "metadata": {},
   "source": [
    "#### Sending output of one command as input for anoher command"
   ]
  },
  {
   "cell_type": "markdown",
   "metadata": {},
   "source": [
    "The pipe operator **|** is used for this."
   ]
  },
  {
   "cell_type": "markdown",
   "metadata": {},
   "source": [
    "- example \n",
    "\n",
    "    > cat words.txt | Select-String st\n",
    "\n",
    "        - will give the strings or words containing \"st\""
   ]
  },
  {
   "cell_type": "markdown",
   "metadata": {},
   "source": [
    "|NUmber|Function|Significance|\n",
    "|------|--------------|------|\n",
    "|1|stdout|the output|\n",
    "|2|stderr|the error|"
   ]
  },
  {
   "cell_type": "markdown",
   "metadata": {},
   "source": [
    "> 2> redirects the error messsage to a differnt place\n",
    "\n",
    "- $null - is the null value\n",
    "\n",
    "Use **Get-Help about_redirection** for more info about this topic"
   ]
  },
  {
   "cell_type": "markdown",
   "metadata": {},
   "source": [
    "## 18. Input, Putput and Pipeline in _LINUX_"
   ]
  },
  {
   "cell_type": "markdown",
   "metadata": {},
   "source": [
    "- the same concept of **Windows** applies in _linux_ .\n",
    "\n",
    "> echo\n",
    "\n",
    "    - prints the text\n",
    "    - | used the previuos comand as input for the next command\n"
   ]
  },
  {
   "cell_type": "markdown",
   "metadata": {},
   "source": [
    "**UAC** - User Access Control\n",
    "    - a feature in Windows that prevents unauthorised changes to a system."
   ]
  },
  {
   "cell_type": "markdown",
   "metadata": {},
   "source": [
    "## View User and Group Information using CLI - **_Windows_**"
   ]
  },
  {
   "cell_type": "markdown",
   "metadata": {},
   "source": [
    "> Get-LocalUser - helps to view the user and their administrative power with the description\n",
    "\n",
    "|Name|Enabled|Description|\n",
    "|-----|-----|------|\n",
    "\n",
    ">Get-LocalGroup -helps to view the different groups that are present on the local system.\n",
    "\n",
    "|Name|Description|\n",
    "|-----|------|\n",
    "\n",
    ">Get-LocalGroupMember <name_of_group-to-search> - helps to view the view the users with the specified group present in the local system\n",
    "\n",
    "|ObjectClass| Name | PrincipalSource|\n",
    "|-|----------|-----------|"
   ]
  },
  {
   "cell_type": "markdown",
   "metadata": {},
   "source": [
    "**Root** is same as **Admisnistrator** in _Linux_ as it was in _Windows_"
   ]
  },
  {
   "cell_type": "markdown",
   "metadata": {},
   "source": [
    "## Users, Superuser and Beyond in **_LINUX_**"
   ]
  },
  {
   "cell_type": "markdown",
   "metadata": {},
   "source": [
    "> cat /etc/sudoers  \n",
    "\n",
    "\n",
    "    - helps to view contents of a root restrited file\n",
    "\n",
    "**sudo** stands for superUserDO\n",
    "\n",
    "> sudo su\n",
    "\n",
    "    - logins as the root user.\n",
    "\n",
    "> cat /etc/group\n",
    "\n",
    "    - views the users who have the access of the sudo\n",
    "\n",
    "|Group name|Group password|Group ID|User name|\n",
    "|-|---|-----|-----|\n",
    "- **x** means the password is encrypted and stored in a seperate file.\n",
    "\n",
    "> cat /etc/passwrd\n",
    "\n",
    "    - file that contains user information\n",
    "|User name|password|USER ID|\n",
    "|-----|----|----|"
   ]
  },
  {
   "cell_type": "markdown",
   "metadata": {},
   "source": [
    "## Password in **_WINDOWS_**"
   ]
  },
  {
   "cell_type": "markdown",
   "metadata": {},
   "source": [
    "DOS style **net** command.\n",
    "\n",
    "> net user {user-name} *\n",
    "\n",
    "    - the asterisk helps to enter a secure password in the next line\n",
    "\n",
    ">net user {user-name} /logonpasswordchg:yes\n",
    "\n",
    "    - this forces the user to change their password when they login to the computer next time.\n",
    "\n",
    "to know more about **net** command and password in winodws go to this link <https://msdn.microsoft.com/en-us/library/cc875839.aspx>\n"
   ]
  },
  {
   "cell_type": "markdown",
   "metadata": {},
   "source": [
    "## Password in **_LINUX_**"
   ]
  },
  {
   "cell_type": "markdown",
   "metadata": {},
   "source": [
    "changing _passsword_ in Linux is easy as we use onlu **passwd** command to change it\n",
    "> passwd {user-name}\n",
    "\n",
    "- password in Linux is securely scrambled and stored in _/etc/shadow_ and can only be read by **/root**\n",
    "\n",
    "> sudo passwd -e {username}\n",
    "\n",
    "    - expires the password for the selected username and asks them to reset it during next login\n",
    "    "
   ]
  },
  {
   "cell_type": "markdown",
   "metadata": {},
   "source": [
    "## Adding or Removing Users in **_WINDOWS_**"
   ]
  },
  {
   "cell_type": "markdown",
   "metadata": {},
   "source": [
    "USES **net** command.\n",
    "\n",
    "> net user {user-name} * /add\n",
    "\n",
    "    - the asterisk promts to enter a password in a new-line\n",
    "    - /add adds the user to the machine\n",
    "    - add /logonpasswordchg:yes to ask them to change their own password\n",
    "> net user {username} /del\n",
    "\n",
    "\n",
    "\n",
    "> Remove-LocalUser {user-name}\n",
    "\n",
    "    - deletes the account with the specified username."
   ]
  },
  {
   "cell_type": "markdown",
   "metadata": {},
   "source": []
  }
 ],
 "metadata": {
  "interpreter": {
   "hash": "d718af6a68817f80e376561e6e2101de74277f7941e4e67dc20993f4fdb41550"
  },
  "kernelspec": {
   "display_name": "Python 3.9.13 64-bit (windows store)",
   "language": "python",
   "name": "python3"
  },
  "language_info": {
   "name": "python",
   "version": "3.9.13"
  },
  "orig_nbformat": 4
 },
 "nbformat": 4,
 "nbformat_minor": 2
}
